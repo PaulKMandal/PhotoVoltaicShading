{
 "cells": [
  {
   "cell_type": "code",
   "execution_count": 1,
   "id": "f4e1c4ef-d335-4039-8d09-589b1e9bb5ba",
   "metadata": {},
   "outputs": [],
   "source": [
    "import pandas as pd "
   ]
  },
  {
   "cell_type": "code",
   "execution_count": 2,
   "id": "3700e55c-0123-488b-9be6-184e22848bf9",
   "metadata": {},
   "outputs": [],
   "source": [
    "df = pd.read_csv(\"shadingv3.csv\")"
   ]
  },
  {
   "cell_type": "code",
   "execution_count": 3,
   "id": "3ba2f259-c2aa-4118-898c-5028f09eea80",
   "metadata": {},
   "outputs": [
    {
     "data": {
      "text/html": [
       "<div>\n",
       "<style scoped>\n",
       "    .dataframe tbody tr th:only-of-type {\n",
       "        vertical-align: middle;\n",
       "    }\n",
       "\n",
       "    .dataframe tbody tr th {\n",
       "        vertical-align: top;\n",
       "    }\n",
       "\n",
       "    .dataframe thead th {\n",
       "        text-align: right;\n",
       "    }\n",
       "</style>\n",
       "<table border=\"1\" class=\"dataframe\">\n",
       "  <thead>\n",
       "    <tr style=\"text-align: right;\">\n",
       "      <th></th>\n",
       "      <th>Unnamed: 0</th>\n",
       "      <th>Voltage (V)</th>\n",
       "      <th>Current (A)</th>\n",
       "      <th>Power (W)</th>\n",
       "      <th>Full Voltage</th>\n",
       "      <th>Shade Voltage</th>\n",
       "      <th>Temperature</th>\n",
       "      <th>File Name</th>\n",
       "      <th># Of Cells</th>\n",
       "      <th>Series Cells</th>\n",
       "      <th>...</th>\n",
       "      <th>Cell 3 Power</th>\n",
       "      <th>Cell 4 Power</th>\n",
       "      <th>Cell 5 Power</th>\n",
       "      <th>Cell 6 Power</th>\n",
       "      <th>Cell 7 Power</th>\n",
       "      <th>Cell 8 Power</th>\n",
       "      <th>Cell 9 Power</th>\n",
       "      <th>Cell 10 Power</th>\n",
       "      <th>numShade</th>\n",
       "      <th>percentShaded</th>\n",
       "    </tr>\n",
       "  </thead>\n",
       "  <tbody>\n",
       "    <tr>\n",
       "      <th>0</th>\n",
       "      <td>0</td>\n",
       "      <td>0.00</td>\n",
       "      <td>1.49</td>\n",
       "      <td>0.00</td>\n",
       "      <td>1000</td>\n",
       "      <td>500</td>\n",
       "      <td>20</td>\n",
       "      <td>10x1_0_Shading</td>\n",
       "      <td>10</td>\n",
       "      <td>10</td>\n",
       "      <td>...</td>\n",
       "      <td>-0.0</td>\n",
       "      <td>-0.0</td>\n",
       "      <td>0.0</td>\n",
       "      <td>0.0</td>\n",
       "      <td>-0.0</td>\n",
       "      <td>-0.0</td>\n",
       "      <td>-0.0</td>\n",
       "      <td>-0.0</td>\n",
       "      <td>0</td>\n",
       "      <td>0.0</td>\n",
       "    </tr>\n",
       "    <tr>\n",
       "      <th>1</th>\n",
       "      <td>1</td>\n",
       "      <td>0.01</td>\n",
       "      <td>1.49</td>\n",
       "      <td>0.01</td>\n",
       "      <td>1000</td>\n",
       "      <td>500</td>\n",
       "      <td>20</td>\n",
       "      <td>10x1_0_Shading</td>\n",
       "      <td>10</td>\n",
       "      <td>10</td>\n",
       "      <td>...</td>\n",
       "      <td>0.0</td>\n",
       "      <td>0.0</td>\n",
       "      <td>0.0</td>\n",
       "      <td>0.0</td>\n",
       "      <td>-0.0</td>\n",
       "      <td>-0.0</td>\n",
       "      <td>-0.0</td>\n",
       "      <td>-0.0</td>\n",
       "      <td>0</td>\n",
       "      <td>0.0</td>\n",
       "    </tr>\n",
       "    <tr>\n",
       "      <th>2</th>\n",
       "      <td>2</td>\n",
       "      <td>0.02</td>\n",
       "      <td>1.49</td>\n",
       "      <td>0.03</td>\n",
       "      <td>1000</td>\n",
       "      <td>500</td>\n",
       "      <td>20</td>\n",
       "      <td>10x1_0_Shading</td>\n",
       "      <td>10</td>\n",
       "      <td>10</td>\n",
       "      <td>...</td>\n",
       "      <td>0.0</td>\n",
       "      <td>0.0</td>\n",
       "      <td>0.0</td>\n",
       "      <td>0.0</td>\n",
       "      <td>-0.0</td>\n",
       "      <td>-0.0</td>\n",
       "      <td>-0.0</td>\n",
       "      <td>-0.0</td>\n",
       "      <td>0</td>\n",
       "      <td>0.0</td>\n",
       "    </tr>\n",
       "    <tr>\n",
       "      <th>3</th>\n",
       "      <td>3</td>\n",
       "      <td>0.03</td>\n",
       "      <td>1.49</td>\n",
       "      <td>0.04</td>\n",
       "      <td>1000</td>\n",
       "      <td>500</td>\n",
       "      <td>20</td>\n",
       "      <td>10x1_0_Shading</td>\n",
       "      <td>10</td>\n",
       "      <td>10</td>\n",
       "      <td>...</td>\n",
       "      <td>0.0</td>\n",
       "      <td>0.0</td>\n",
       "      <td>0.0</td>\n",
       "      <td>0.0</td>\n",
       "      <td>-0.0</td>\n",
       "      <td>-0.0</td>\n",
       "      <td>-0.0</td>\n",
       "      <td>-0.0</td>\n",
       "      <td>0</td>\n",
       "      <td>0.0</td>\n",
       "    </tr>\n",
       "    <tr>\n",
       "      <th>4</th>\n",
       "      <td>4</td>\n",
       "      <td>0.04</td>\n",
       "      <td>1.49</td>\n",
       "      <td>0.06</td>\n",
       "      <td>1000</td>\n",
       "      <td>500</td>\n",
       "      <td>20</td>\n",
       "      <td>10x1_0_Shading</td>\n",
       "      <td>10</td>\n",
       "      <td>10</td>\n",
       "      <td>...</td>\n",
       "      <td>0.0</td>\n",
       "      <td>0.0</td>\n",
       "      <td>0.0</td>\n",
       "      <td>0.0</td>\n",
       "      <td>-0.0</td>\n",
       "      <td>-0.0</td>\n",
       "      <td>-0.0</td>\n",
       "      <td>-0.0</td>\n",
       "      <td>0</td>\n",
       "      <td>0.0</td>\n",
       "    </tr>\n",
       "    <tr>\n",
       "      <th>5</th>\n",
       "      <td>5</td>\n",
       "      <td>0.05</td>\n",
       "      <td>1.49</td>\n",
       "      <td>0.07</td>\n",
       "      <td>1000</td>\n",
       "      <td>500</td>\n",
       "      <td>20</td>\n",
       "      <td>10x1_0_Shading</td>\n",
       "      <td>10</td>\n",
       "      <td>10</td>\n",
       "      <td>...</td>\n",
       "      <td>0.0</td>\n",
       "      <td>0.0</td>\n",
       "      <td>0.0</td>\n",
       "      <td>0.0</td>\n",
       "      <td>-0.0</td>\n",
       "      <td>-0.0</td>\n",
       "      <td>-0.0</td>\n",
       "      <td>-0.0</td>\n",
       "      <td>0</td>\n",
       "      <td>0.0</td>\n",
       "    </tr>\n",
       "    <tr>\n",
       "      <th>6</th>\n",
       "      <td>6</td>\n",
       "      <td>0.06</td>\n",
       "      <td>1.49</td>\n",
       "      <td>0.09</td>\n",
       "      <td>1000</td>\n",
       "      <td>500</td>\n",
       "      <td>20</td>\n",
       "      <td>10x1_0_Shading</td>\n",
       "      <td>10</td>\n",
       "      <td>10</td>\n",
       "      <td>...</td>\n",
       "      <td>0.0</td>\n",
       "      <td>0.0</td>\n",
       "      <td>0.0</td>\n",
       "      <td>0.0</td>\n",
       "      <td>-0.0</td>\n",
       "      <td>-0.0</td>\n",
       "      <td>-0.0</td>\n",
       "      <td>-0.0</td>\n",
       "      <td>0</td>\n",
       "      <td>0.0</td>\n",
       "    </tr>\n",
       "    <tr>\n",
       "      <th>7</th>\n",
       "      <td>7</td>\n",
       "      <td>0.07</td>\n",
       "      <td>1.49</td>\n",
       "      <td>0.10</td>\n",
       "      <td>1000</td>\n",
       "      <td>500</td>\n",
       "      <td>20</td>\n",
       "      <td>10x1_0_Shading</td>\n",
       "      <td>10</td>\n",
       "      <td>10</td>\n",
       "      <td>...</td>\n",
       "      <td>0.0</td>\n",
       "      <td>0.0</td>\n",
       "      <td>0.0</td>\n",
       "      <td>0.0</td>\n",
       "      <td>-0.0</td>\n",
       "      <td>-0.0</td>\n",
       "      <td>-0.0</td>\n",
       "      <td>-0.0</td>\n",
       "      <td>0</td>\n",
       "      <td>0.0</td>\n",
       "    </tr>\n",
       "    <tr>\n",
       "      <th>8</th>\n",
       "      <td>8</td>\n",
       "      <td>0.08</td>\n",
       "      <td>1.49</td>\n",
       "      <td>0.12</td>\n",
       "      <td>1000</td>\n",
       "      <td>500</td>\n",
       "      <td>20</td>\n",
       "      <td>10x1_0_Shading</td>\n",
       "      <td>10</td>\n",
       "      <td>10</td>\n",
       "      <td>...</td>\n",
       "      <td>0.0</td>\n",
       "      <td>0.0</td>\n",
       "      <td>0.0</td>\n",
       "      <td>0.0</td>\n",
       "      <td>-0.0</td>\n",
       "      <td>-0.0</td>\n",
       "      <td>-0.0</td>\n",
       "      <td>-0.0</td>\n",
       "      <td>0</td>\n",
       "      <td>0.0</td>\n",
       "    </tr>\n",
       "    <tr>\n",
       "      <th>9</th>\n",
       "      <td>9</td>\n",
       "      <td>0.09</td>\n",
       "      <td>1.49</td>\n",
       "      <td>0.13</td>\n",
       "      <td>1000</td>\n",
       "      <td>500</td>\n",
       "      <td>20</td>\n",
       "      <td>10x1_0_Shading</td>\n",
       "      <td>10</td>\n",
       "      <td>10</td>\n",
       "      <td>...</td>\n",
       "      <td>0.0</td>\n",
       "      <td>0.0</td>\n",
       "      <td>0.0</td>\n",
       "      <td>0.0</td>\n",
       "      <td>-0.0</td>\n",
       "      <td>-0.0</td>\n",
       "      <td>-0.0</td>\n",
       "      <td>-0.0</td>\n",
       "      <td>0</td>\n",
       "      <td>0.0</td>\n",
       "    </tr>\n",
       "  </tbody>\n",
       "</table>\n",
       "<p>10 rows × 25 columns</p>\n",
       "</div>"
      ],
      "text/plain": [
       "   Unnamed: 0  Voltage (V)  Current (A)  Power (W)  Full Voltage  \\\n",
       "0           0         0.00         1.49       0.00          1000   \n",
       "1           1         0.01         1.49       0.01          1000   \n",
       "2           2         0.02         1.49       0.03          1000   \n",
       "3           3         0.03         1.49       0.04          1000   \n",
       "4           4         0.04         1.49       0.06          1000   \n",
       "5           5         0.05         1.49       0.07          1000   \n",
       "6           6         0.06         1.49       0.09          1000   \n",
       "7           7         0.07         1.49       0.10          1000   \n",
       "8           8         0.08         1.49       0.12          1000   \n",
       "9           9         0.09         1.49       0.13          1000   \n",
       "\n",
       "   Shade Voltage  Temperature       File Name  # Of Cells  Series Cells  ...  \\\n",
       "0            500           20  10x1_0_Shading          10            10  ...   \n",
       "1            500           20  10x1_0_Shading          10            10  ...   \n",
       "2            500           20  10x1_0_Shading          10            10  ...   \n",
       "3            500           20  10x1_0_Shading          10            10  ...   \n",
       "4            500           20  10x1_0_Shading          10            10  ...   \n",
       "5            500           20  10x1_0_Shading          10            10  ...   \n",
       "6            500           20  10x1_0_Shading          10            10  ...   \n",
       "7            500           20  10x1_0_Shading          10            10  ...   \n",
       "8            500           20  10x1_0_Shading          10            10  ...   \n",
       "9            500           20  10x1_0_Shading          10            10  ...   \n",
       "\n",
       "   Cell 3 Power Cell 4 Power  Cell 5 Power  Cell 6 Power  Cell 7 Power  \\\n",
       "0          -0.0         -0.0           0.0           0.0          -0.0   \n",
       "1           0.0          0.0           0.0           0.0          -0.0   \n",
       "2           0.0          0.0           0.0           0.0          -0.0   \n",
       "3           0.0          0.0           0.0           0.0          -0.0   \n",
       "4           0.0          0.0           0.0           0.0          -0.0   \n",
       "5           0.0          0.0           0.0           0.0          -0.0   \n",
       "6           0.0          0.0           0.0           0.0          -0.0   \n",
       "7           0.0          0.0           0.0           0.0          -0.0   \n",
       "8           0.0          0.0           0.0           0.0          -0.0   \n",
       "9           0.0          0.0           0.0           0.0          -0.0   \n",
       "\n",
       "   Cell 8 Power  Cell 9 Power  Cell 10 Power  numShade  percentShaded  \n",
       "0          -0.0          -0.0           -0.0         0            0.0  \n",
       "1          -0.0          -0.0           -0.0         0            0.0  \n",
       "2          -0.0          -0.0           -0.0         0            0.0  \n",
       "3          -0.0          -0.0           -0.0         0            0.0  \n",
       "4          -0.0          -0.0           -0.0         0            0.0  \n",
       "5          -0.0          -0.0           -0.0         0            0.0  \n",
       "6          -0.0          -0.0           -0.0         0            0.0  \n",
       "7          -0.0          -0.0           -0.0         0            0.0  \n",
       "8          -0.0          -0.0           -0.0         0            0.0  \n",
       "9          -0.0          -0.0           -0.0         0            0.0  \n",
       "\n",
       "[10 rows x 25 columns]"
      ]
     },
     "execution_count": 3,
     "metadata": {},
     "output_type": "execute_result"
    }
   ],
   "source": [
    "df.head(10) "
   ]
  },
  {
   "cell_type": "code",
   "execution_count": 4,
   "id": "1d88c8c1-df2d-49dc-9bf5-da777859e5b6",
   "metadata": {},
   "outputs": [
    {
     "data": {
      "text/plain": [
       "Unnamed: 0                     0\n",
       "Voltage (V)                  0.0\n",
       "Current (A)                 1.49\n",
       "Power (W)                    0.0\n",
       "Full Voltage                1000\n",
       "Shade Voltage                500\n",
       "Temperature                   20\n",
       "File Name         10x1_0_Shading\n",
       "# Of Cells                    10\n",
       "Series Cells                  10\n",
       "Parallel Cells                 1\n",
       "Type                      Shaded\n",
       "Solar Panel ID                 1\n",
       "Cell 1 Power                 0.0\n",
       "Cell 2 Power                -0.0\n",
       "Cell 3 Power                -0.0\n",
       "Cell 4 Power                -0.0\n",
       "Cell 5 Power                 0.0\n",
       "Cell 6 Power                 0.0\n",
       "Cell 7 Power                -0.0\n",
       "Cell 8 Power                -0.0\n",
       "Cell 9 Power                -0.0\n",
       "Cell 10 Power               -0.0\n",
       "numShade                       0\n",
       "percentShaded                0.0\n",
       "Name: 0, dtype: object"
      ]
     },
     "execution_count": 4,
     "metadata": {},
     "output_type": "execute_result"
    }
   ],
   "source": [
    "df.iloc[0]"
   ]
  },
  {
   "cell_type": "code",
   "execution_count": 5,
   "id": "bd361bdb-4d0f-412c-83d0-0ccc1789647f",
   "metadata": {},
   "outputs": [
    {
     "data": {
      "text/plain": [
       "Unnamed: 0                   100\n",
       "Voltage (V)                  1.0\n",
       "Current (A)                 1.49\n",
       "Power (W)                   1.49\n",
       "Full Voltage                1000\n",
       "Shade Voltage                500\n",
       "Temperature                   20\n",
       "File Name         10x1_0_Shading\n",
       "# Of Cells                    10\n",
       "Series Cells                  10\n",
       "Parallel Cells                 1\n",
       "Type                      Shaded\n",
       "Solar Panel ID                 1\n",
       "Cell 1 Power                1.13\n",
       "Cell 2 Power                0.37\n",
       "Cell 3 Power                 0.0\n",
       "Cell 4 Power                 0.0\n",
       "Cell 5 Power                 0.0\n",
       "Cell 6 Power                 0.0\n",
       "Cell 7 Power                 0.0\n",
       "Cell 8 Power                -0.0\n",
       "Cell 9 Power                -0.0\n",
       "Cell 10 Power               -0.0\n",
       "numShade                       0\n",
       "percentShaded                0.0\n",
       "Name: 100, dtype: object"
      ]
     },
     "execution_count": 5,
     "metadata": {},
     "output_type": "execute_result"
    }
   ],
   "source": [
    "df.iloc[100]"
   ]
  },
  {
   "cell_type": "code",
   "execution_count": 6,
   "id": "0ffd943e-9a81-4c40-9308-2b9b59973d01",
   "metadata": {},
   "outputs": [
    {
     "data": {
      "text/plain": [
       "Unnamed: 0                 10000\n",
       "Voltage (V)                 5.41\n",
       "Current (A)                 0.75\n",
       "Power (W)                   4.06\n",
       "Full Voltage                1000\n",
       "Shade Voltage                500\n",
       "Temperature                   20\n",
       "File Name         10x1_8_Shading\n",
       "# Of Cells                    10\n",
       "Series Cells                  10\n",
       "Parallel Cells                 1\n",
       "Type                      Shaded\n",
       "Solar Panel ID                17\n",
       "Cell 1 Power                0.64\n",
       "Cell 2 Power                0.63\n",
       "Cell 3 Power                0.62\n",
       "Cell 4 Power                0.57\n",
       "Cell 5 Power                0.11\n",
       "Cell 6 Power                 0.0\n",
       "Cell 7 Power                 0.0\n",
       "Cell 8 Power                 0.0\n",
       "Cell 9 Power                0.75\n",
       "Cell 10 Power               0.75\n",
       "numShade                       8\n",
       "percentShaded                0.8\n",
       "Name: 10000, dtype: object"
      ]
     },
     "execution_count": 6,
     "metadata": {},
     "output_type": "execute_result"
    }
   ],
   "source": [
    "df.iloc[10000]"
   ]
  },
  {
   "cell_type": "code",
   "execution_count": 8,
   "id": "5159d23b-baec-4e5a-b1b2-95090e780db1",
   "metadata": {},
   "outputs": [
    {
     "data": {
      "text/plain": [
       "Unnamed: 0              2000000\n",
       "Voltage (V)                6.66\n",
       "Current (A)                1.21\n",
       "Power (W)                  8.03\n",
       "Full Voltage               1000\n",
       "Shade Voltage               800\n",
       "Temperature                  22\n",
       "File Name         9x1_2_Shading\n",
       "# Of Cells                    9\n",
       "Series Cells                  9\n",
       "Parallel Cells                1\n",
       "Type                     Shaded\n",
       "Solar Panel ID             8286\n",
       "Cell 1 Power              -0.03\n",
       "Cell 2 Power               -0.0\n",
       "Cell 3 Power               1.15\n",
       "Cell 4 Power               1.15\n",
       "Cell 5 Power               1.15\n",
       "Cell 6 Power               1.15\n",
       "Cell 7 Power               1.15\n",
       "Cell 8 Power               1.15\n",
       "Cell 9 Power               1.15\n",
       "Cell 10 Power               NaN\n",
       "numShade                      2\n",
       "percentShaded          0.222222\n",
       "Name: 2000000, dtype: object"
      ]
     },
     "execution_count": 8,
     "metadata": {},
     "output_type": "execute_result"
    }
   ],
   "source": [
    "df.iloc[2000000]"
   ]
  },
  {
   "cell_type": "code",
   "execution_count": 12,
   "id": "cb0eab8d-e09c-4127-baf8-85bab037153f",
   "metadata": {},
   "outputs": [],
   "source": [
    "import numpy as np\n",
    "\n",
    "X = np.array(df[['Voltage (V)','Current (A)','Full Voltage','Shade Voltage','Temperature','Series Cells','Parallel Cells']].values)\n",
    "Y = np.array(df['percentShaded'].values)"
   ]
  },
  {
   "cell_type": "code",
   "execution_count": 16,
   "id": "2f332508-a85d-4864-bd18-5158417d5223",
   "metadata": {},
   "outputs": [],
   "source": [
    "np.random.seed(384)\n",
    "randomize = np.arange(len(X))\n",
    "np.random.shuffle(randomize)"
   ]
  },
  {
   "cell_type": "code",
   "execution_count": 17,
   "id": "9a6f13a8-79ef-4d8c-b2bc-fd56cbf7a888",
   "metadata": {},
   "outputs": [],
   "source": [
    "X = X[randomize]\n",
    "Y = Y[randomize]"
   ]
  },
  {
   "cell_type": "code",
   "execution_count": 23,
   "id": "c32600cb-8243-44ea-b2a0-b8686711f804",
   "metadata": {},
   "outputs": [],
   "source": [
    "length = len(X)"
   ]
  },
  {
   "cell_type": "code",
   "execution_count": 32,
   "id": "8b9a1aa2-5b40-4d7c-95c8-6dac753fac77",
   "metadata": {},
   "outputs": [],
   "source": [
    "X_test = X[0:int(len(X) * .1)]\n",
    "Y_test = Y[0:int(len(X) * .1)]\n",
    "\n",
    "X_valid = X[int(len(X) * .1) : int(len(X) * .2)]\n",
    "Y_valid = Y[int(len(X) * .1) : int(len(X) * .2)]\n",
    "\n",
    "X_train = X[int(len(X) * .2) :]\n",
    "Y_train = Y[int(len(X) * .2) :]"
   ]
  },
  {
   "cell_type": "code",
   "execution_count": 33,
   "id": "af1a3100-84a5-4c37-946f-40edef495591",
   "metadata": {},
   "outputs": [
    {
     "data": {
      "text/plain": [
       "3856194"
      ]
     },
     "execution_count": 33,
     "metadata": {},
     "output_type": "execute_result"
    }
   ],
   "source": [
    "len(X_test) + len(X_train) + len(X_valid)"
   ]
  },
  {
   "cell_type": "code",
   "execution_count": 34,
   "id": "6a904ebe-f84f-4519-b51b-b20b766acd67",
   "metadata": {},
   "outputs": [
    {
     "data": {
      "text/plain": [
       "3856194"
      ]
     },
     "execution_count": 34,
     "metadata": {},
     "output_type": "execute_result"
    }
   ],
   "source": [
    "length"
   ]
  },
  {
   "cell_type": "code",
   "execution_count": 50,
   "id": "78509f15-218a-46d1-a5f4-d53c16078d95",
   "metadata": {},
   "outputs": [],
   "source": [
    "import tensorflow as tf\n",
    "\n",
    "BATCH_SIZE = 1024\n",
    "\n",
    "model = tf.keras.Sequential()\n",
    "model.add(tf.keras.layers.Dense(1, input_shape=[7]))\n",
    "#model.add(tf.keras.layers.Dense(1))\n",
    "model.compile(optimizer='adam', loss='mse', metrics=[tf.keras.metrics.MeanSquaredError()])"
   ]
  },
  {
   "cell_type": "code",
   "execution_count": 51,
   "id": "05da8a17-f8e5-4fa1-b799-d9a31f5ee2b1",
   "metadata": {},
   "outputs": [
    {
     "name": "stdout",
     "output_type": "stream",
     "text": [
      "Epoch 1/10\n",
      "3013/3013 [==============================] - 4s 1ms/step - loss: 31496.1055 - mean_squared_error: 31496.1055 - val_loss: 808.4943 - val_mean_squared_error: 808.4943\n",
      "Epoch 2/10\n",
      "3013/3013 [==============================] - 4s 1ms/step - loss: 353.7672 - mean_squared_error: 353.7672 - val_loss: 50.2579 - val_mean_squared_error: 50.2579\n",
      "Epoch 3/10\n",
      "3013/3013 [==============================] - 4s 1ms/step - loss: 13.2954 - mean_squared_error: 13.2954 - val_loss: 2.7064 - val_mean_squared_error: 2.7064\n",
      "Epoch 4/10\n",
      "3013/3013 [==============================] - 4s 1ms/step - loss: 0.9298 - mean_squared_error: 0.9298 - val_loss: 0.2159 - val_mean_squared_error: 0.2159\n",
      "Epoch 5/10\n",
      "3013/3013 [==============================] - 4s 1ms/step - loss: 0.1249 - mean_squared_error: 0.1249 - val_loss: 0.0981 - val_mean_squared_error: 0.0981\n",
      "Epoch 6/10\n",
      "3013/3013 [==============================] - 4s 1ms/step - loss: 0.0995 - mean_squared_error: 0.0995 - val_loss: 0.0980 - val_mean_squared_error: 0.0980\n",
      "Epoch 7/10\n",
      "3013/3013 [==============================] - 4s 1ms/step - loss: 0.1014 - mean_squared_error: 0.1014 - val_loss: 0.0979 - val_mean_squared_error: 0.0979\n",
      "Epoch 8/10\n",
      "3013/3013 [==============================] - 4s 1ms/step - loss: 0.1014 - mean_squared_error: 0.1014 - val_loss: 0.0996 - val_mean_squared_error: 0.0996\n",
      "Epoch 9/10\n",
      "3013/3013 [==============================] - 4s 1ms/step - loss: 0.1015 - mean_squared_error: 0.1015 - val_loss: 0.1011 - val_mean_squared_error: 0.1011\n",
      "Epoch 10/10\n",
      "3013/3013 [==============================] - 4s 1ms/step - loss: 0.1012 - mean_squared_error: 0.1012 - val_loss: 0.1129 - val_mean_squared_error: 0.1129\n"
     ]
    }
   ],
   "source": [
    "history = model.fit(X_train, Y_train, epochs = 10, batch_size = BATCH_SIZE, validation_data=(X_valid, Y_valid))"
   ]
  },
  {
   "cell_type": "code",
   "execution_count": 52,
   "id": "1674c50c-5486-4795-bbc3-554246ccd19a",
   "metadata": {},
   "outputs": [
    {
     "name": "stdout",
     "output_type": "stream",
     "text": [
      "12051/12051 [==============================] - 11s 871us/step - loss: 0.1128 - mean_squared_error: 0.1128\n"
     ]
    }
   ],
   "source": [
    "results = model.evaluate(X_test, Y_test)"
   ]
  },
  {
   "cell_type": "code",
   "execution_count": 57,
   "id": "22f8f730-21cf-4290-9d43-fbeb483155cf",
   "metadata": {},
   "outputs": [],
   "source": [
    "Y_pred = model(X_test).numpy()"
   ]
  },
  {
   "cell_type": "code",
   "execution_count": 59,
   "id": "a35de00e-1dcc-4580-9bff-47eeaa597624",
   "metadata": {},
   "outputs": [
    {
     "data": {
      "text/plain": [
       "array([[0.35826182],\n",
       "       [0.35304692],\n",
       "       [0.41336864],\n",
       "       ...,\n",
       "       [0.3623922 ],\n",
       "       [0.31398854],\n",
       "       [0.39000615]], dtype=float32)"
      ]
     },
     "execution_count": 59,
     "metadata": {},
     "output_type": "execute_result"
    }
   ],
   "source": [
    "Y_pred"
   ]
  },
  {
   "cell_type": "code",
   "execution_count": 61,
   "id": "cd24d174-a980-412a-bdd4-bb1313fcafdc",
   "metadata": {},
   "outputs": [
    {
     "data": {
      "text/plain": [
       "0.4998812011049479"
      ]
     },
     "execution_count": 61,
     "metadata": {},
     "output_type": "execute_result"
    }
   ],
   "source": [
    "Y_test.mean()"
   ]
  },
  {
   "cell_type": "code",
   "execution_count": 62,
   "id": "669a7abd-ce4c-4a23-a1db-bcc49b05eda4",
   "metadata": {},
   "outputs": [
    {
     "data": {
      "text/plain": [
       "0.37514117"
      ]
     },
     "execution_count": 62,
     "metadata": {},
     "output_type": "execute_result"
    }
   ],
   "source": [
    "Y_pred.mean()"
   ]
  },
  {
   "cell_type": "code",
   "execution_count": 63,
   "id": "529627f8-eb47-42b2-af99-ec26fbe04466",
   "metadata": {},
   "outputs": [
    {
     "data": {
      "text/plain": [
       "0.31788741146432165"
      ]
     },
     "execution_count": 63,
     "metadata": {},
     "output_type": "execute_result"
    }
   ],
   "source": [
    "Y_test.std()"
   ]
  },
  {
   "cell_type": "code",
   "execution_count": 64,
   "id": "cfa4df20-d8f9-49d1-bc43-5c77097e1364",
   "metadata": {},
   "outputs": [
    {
     "data": {
      "text/plain": [
       "0.06347022"
      ]
     },
     "execution_count": 64,
     "metadata": {},
     "output_type": "execute_result"
    }
   ],
   "source": [
    "Y_pred.std()"
   ]
  },
  {
   "cell_type": "code",
   "execution_count": null,
   "id": "3944f943-f196-4580-be3c-037a05b5cf70",
   "metadata": {},
   "outputs": [],
   "source": []
  }
 ],
 "metadata": {
  "kernelspec": {
   "display_name": "Python 3 (ipykernel)",
   "language": "python",
   "name": "python3"
  },
  "language_info": {
   "codemirror_mode": {
    "name": "ipython",
    "version": 3
   },
   "file_extension": ".py",
   "mimetype": "text/x-python",
   "name": "python",
   "nbconvert_exporter": "python",
   "pygments_lexer": "ipython3",
   "version": "3.10.7"
  }
 },
 "nbformat": 4,
 "nbformat_minor": 5
}
